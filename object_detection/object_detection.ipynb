{
 "cells": [
  {
   "cell_type": "code",
   "execution_count": 1,
   "metadata": {},
   "outputs": [],
   "source": [
    "import tensorflow as tf\n",
    "import cv2\n",
    "import numpy as np"
   ]
  },
  {
   "cell_type": "code",
   "execution_count": 4,
   "metadata": {},
   "outputs": [],
   "source": [
    "model = tf.keras.models.load_model('image_classification_model_1')\n",
    "class_name = ['cable', 'cup', 'hand', 'keys']"
   ]
  },
  {
   "cell_type": "code",
   "execution_count": 5,
   "metadata": {},
   "outputs": [],
   "source": [
    "cap = cv2.VideoCapture('https://192.168.1.103:8080/video')\n",
    "while cap.isOpened():\n",
    "    _,frame = cap.read()\n",
    "    \n",
    "    cv2.rectangle(frame, (45,380), (200,418), [0,0,0], -1, cv2.LINE_AA)\n",
    "    \n",
    "    prediction_frame = cv2.resize(frame, (64,64))\n",
    "    prediction_frame = np.expand_dims(prediction_frame, 0)\n",
    "    classification = model(prediction_frame)\n",
    "    index = np.argmax(classification[0])\n",
    "    \n",
    "    try:\n",
    "        cv2.putText(frame, class_name[index], (50,407),cv2.FONT_HERSHEY_SIMPLEX, 1, [0,255,0], 1, cv2.LINE_AA)\n",
    "    except:\n",
    "        cv2.putText(frame, \"No predictions\", (50,407),cv2.FONT_HERSHEY_SIMPLEX, 1, [255,255,255], 1, cv2.LINE_AA)\n",
    "    \n",
    "    cv2.imshow('Window', frame)\n",
    "    if cv2.waitKey(1) & 0xFF == ord('q'):\n",
    "        break\n",
    "        \n",
    "cap.release()\n",
    "cv2.destroyAllWindows()"
   ]
  },
  {
   "cell_type": "code",
   "execution_count": null,
   "metadata": {},
   "outputs": [],
   "source": []
  }
 ],
 "metadata": {
  "kernelspec": {
   "display_name": "Python 3 (ipykernel)",
   "language": "python",
   "name": "python3"
  },
  "language_info": {
   "codemirror_mode": {
    "name": "ipython",
    "version": 3
   },
   "file_extension": ".py",
   "mimetype": "text/x-python",
   "name": "python",
   "nbconvert_exporter": "python",
   "pygments_lexer": "ipython3",
   "version": "3.9.13"
  },
  "vscode": {
   "interpreter": {
    "hash": "75eef46696976f9d99545f8398d5cc026a55ac773bd21dca42ce1aa59af96408"
   }
  }
 },
 "nbformat": 4,
 "nbformat_minor": 2
}
